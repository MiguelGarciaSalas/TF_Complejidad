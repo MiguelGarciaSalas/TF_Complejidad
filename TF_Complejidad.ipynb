{
  "cells": [
    {
      "cell_type": "markdown",
      "metadata": {
        "id": "pzc6VAkDAxgv"
      },
      "source": [
        "## Bibliotecas"
      ]
    },
    {
      "cell_type": "code",
      "execution_count": null,
      "metadata": {
        "id": "lN2N-HXSAxNa"
      },
      "outputs": [],
      "source": [
        "import folium\n",
        "import graphviz as gv\n",
        "import numpy as np\n",
        "import pandas as pd\n",
        "import heapq as hq\n",
        "import math"
      ]
    },
    {
      "cell_type": "markdown",
      "metadata": {
        "id": "Wc_RFtgLukDQ"
      },
      "source": [
        "## Grafo"
      ]
    },
    {
      "cell_type": "code",
      "execution_count": 48,
      "metadata": {
        "id": "5ByWDI4quKA-"
      },
      "outputs": [],
      "source": [
        "class Vertice:\n",
        "    \n",
        "    def __init__(self, i): #Función constructor\n",
        "        self.id = i #\n",
        "        self.visitado = False\n",
        "        self.nivel = -1\n",
        "        self.vecinos = [] #Los vertices conectados a un vértice en particular (vecinos)\n",
        "\n",
        "    def agregaVecinos(self, v): #V es el vecino a agregar\n",
        "        if not v in self.vecinos: #Si v no está en la lista de vecinos se agrega\n",
        "            self.vecinos.append(v) #v es el vecino a agregar\n",
        "\n",
        "class Grafica: #Esta clase define a toda la grafica o grafo\n",
        "\n",
        "    def __init__(self): #Función constructor\n",
        "        self.vertices = {} #Se crea un diccionario de vertices\n",
        "    \n",
        "    def agregarVertice(self, v):\n",
        "        if v not in self.vertices: #Si v no se encuentra en nuestros vertices\n",
        "            #Se agrega el vertice al diccionario\n",
        "            #Se crea una llave dentro del ciccionario\n",
        "            #con el identificador v\n",
        "            #Como valor almacena un objeto de tipo vertice con el id v\n",
        "            #Ejemplo: vertices[12] -> objeto Vertice con id 12\n",
        "            self.vertices[v] = Vertice(v)\n",
        "\n",
        "    def agregarArista(self, a, b): #a y b son vértices conectados por la arista (origen y destino)\n",
        "        if a in self.vertices and b in self.vertices: #Si los 2 vertices se encuentran en el disccionario\n",
        "            self.vertices[a].agregaVecinos(b)\n",
        "            self.vertices[b].agregaVecinos(a) #Se crea el camino entre a y b colocándolos como vecinos"
      ]
    },
    {
      "cell_type": "markdown",
      "metadata": {
        "id": "NWV2sUXRApS-"
      },
      "source": [
        "## Lectura"
      ]
    },
    {
      "cell_type": "code",
      "execution_count": null,
      "metadata": {
        "id": "lkCbKlWO0Cuh"
      },
      "outputs": [],
      "source": [
        "df = pd.read_csv('LimaStreets.csv')\n",
        "df.columns = df.columns.str.strip()\n",
        "df.head()\n",
        "subset_of_df = df.sample(n=380)\n",
        "\n",
        "\n",
        "some_map = folium.Map(location=[subset_of_df['Y'].mean(),subset_of_df['X'].mean()],zoom_start=10)\n",
        "\n",
        "\n",
        "for row in subset_of_df.itertuples():\n",
        "  some_map.add_child(folium.Marker(location=[row.Y,row.X], popup=row.ID))\n",
        "\n",
        "\n",
        "some_map"
      ]
    },
    {
      "cell_type": "code",
      "execution_count": null,
      "metadata": {
        "id": "ke-nAVKV8-f2"
      },
      "outputs": [],
      "source": [
        "df.head()"
      ]
    },
    {
      "cell_type": "code",
      "execution_count": null,
      "metadata": {
        "id": "CrNkEdCuzOuU"
      },
      "outputs": [],
      "source": [
        "df = pd.read_csv('LimaStreets.csv')\n",
        "df.columns = df.columns.str.strip()\n",
        "df.head()\n",
        "subset_of_df = df.sample(n=500)\n",
        "\n",
        "g = Grafica()\n",
        "\n",
        "for i in range(5000):\n",
        "    g.agregarVertice(df.ORIGEN[i])\n",
        "\n",
        "for i in range(5000):\n",
        "    g.agregarArista(df.ORIGEN[i], df.DESTINO[i])\n",
        "\n",
        "for v in g.vertices:\n",
        "    print(v, g.vertices[v].vecinos)\n"
      ]
    },
    {
      "cell_type": "markdown",
      "metadata": {
        "id": "jNbk-DUXmlrU"
      },
      "source": [
        "## Grafo ilustrado"
      ]
    },
    {
      "cell_type": "code",
      "execution_count": null,
      "metadata": {
        "id": "SD4UMS_6mpwA"
      },
      "outputs": [],
      "source": [
        "def adjlShow():\n",
        "  grafo = gv.Digraph(\"grafod3\")\n",
        "  n = len(df)\n",
        "  for i in range(1500):\n",
        "    grafo.edge(str(df.ORIGEN[i]),str(df.DESTINO[i]))\n",
        "  return grafo\n",
        "\n",
        "adjlShow()"
      ]
    },
    {
      "cell_type": "markdown",
      "metadata": {
        "id": "dl5SEIA0-JJ3"
      },
      "source": [
        "## Algorítmo\n"
      ]
    },
    {
      "cell_type": "code",
      "execution_count": 56,
      "metadata": {
        "id": "uEYykwqy-OLW"
      },
      "outputs": [],
      "source": [
        "import math\n",
        "\n",
        "class Vertice:\n",
        "\tdef __init__(self, i):\n",
        "\t\tself.id = i\n",
        "\t\tself.vecinos = []\n",
        "\t\tself.visitado = False\n",
        "\t\tself.padre = None\n",
        "\t\tself.costo = float('inf')\n",
        "\t\tself.x = float('inf')\n",
        "\t\tself.y = float('inf')\n",
        "\n",
        "\tdef agregarVecino(self, v, p, x, y):\n",
        "\t\t#print(v)\n",
        "\t\t#if v not in self.vecinos:\n",
        "\t\tself.vecinos.append([v, p, x, y])\n",
        "\n",
        "class Grafica:\n",
        "\tdef __init__(self):\n",
        "\t\tself.vertices = {}\n",
        "\n",
        "\tdef agregarVertice(self, id):\n",
        "\t\tif id not in self.vertices:\n",
        "\t\t\tself.vertices[id] = Vertice(id)\n",
        "\n",
        "\tdef agregarArista(self, a, b, p, x, y):\n",
        "\t\tif a in self.vertices and b in self.vertices:\n",
        "\t\t\tself.vertices[a].agregarVecino(b, p, x, y)\n",
        "\t\t\t#self.vertices[b].agregarVecino(a, p)\n",
        "\t\t\t\n",
        "\tdef camino(self, a, b):\n",
        "\t\tcamino = []\n",
        "\t\tcamino_x = []\n",
        "\t\tcamino_y = []\n",
        "\t\tactual = b\n",
        "\t\tllegada = self.vertices[a].padre\n",
        "\t\tx = b\n",
        "\t\ty = b\n",
        "\t\twhile actual != llegada:\n",
        "\t\t\tcamino.insert(0, actual)\n",
        "\t\t\tx = self.vertices[actual].x\n",
        "\t\t\tcamino_x.insert(0, x)\n",
        "\t\t\ty = self.vertices[actual].y\n",
        "\t\t\tcamino_y.insert(0, y)\n",
        "\t\t\tactual = self.vertices[actual].padre\n",
        "\t\treturn [camino, self.vertices[b].costo, camino_x, camino_y]\n",
        "\n",
        "\tdef minimo(self, l):\n",
        "\t\tif len(l) > 0:\n",
        "\t\t\tm = self.vertices[l[0]].costo\n",
        "\t\t\tv = l[0]\n",
        "\t\t\tfor e in l:\n",
        "\t\t\t\tif m > self.vertices[e].costo:\n",
        "\t\t\t\t\tm = self.vertices[e].costo\n",
        "\t\t\t\t\tv = e\n",
        "\t\t\treturn v\n",
        "\t\treturn None\n",
        "\n",
        "\tdef dijkstra(self, a):\n",
        "\t\tif a in self.vertices:\n",
        "\t\t\t# 1 y 2\n",
        "\t\t\tself.vertices[a].costo = 0\n",
        "\t\t\tactual = a\n",
        "\t\t\tnoVisitados = []\n",
        "\t\t\t\n",
        "\t\t\tfor v in self.vertices:\n",
        "\t\t\t\tif v != a:\n",
        "\t\t\t\t\tself.vertices[v].costo = float('inf')\n",
        "\t\t\t\t\t#self.vertices[v].x = float('inf')\n",
        "\t\t\t\t\t#self.vertices[v].y = float('inf')\n",
        "\t\t\t\tself.vertices[v].padre = None\n",
        "\t\t\t\tnoVisitados.append(v)\n",
        "\n",
        "\t\t\twhile len(noVisitados) > 0:\n",
        "\t\t\t\t#3\n",
        "\t\t\t\tfor vec in self.vertices[actual].vecinos:\n",
        "\t\t\t\t\tif self.vertices[vec[0]].visitado == False:\n",
        "\t\t\t\t\t\t# 3.a\n",
        "\t\t\t\t\t\tif self.vertices[actual].costo + vec[1] < self.vertices[vec[0]].costo:\n",
        "\t\t\t\t\t\t\t#print(vec[2])\n",
        "\t\t\t\t\t\t\tself.vertices[vec[0]].costo = self.vertices[actual].costo + vec[1]\n",
        "\t\t\t\t\t\t\tself.vertices[vec[0]].padre = actual\n",
        "\t\t\t\t\t\t\tself.vertices[actual].x = vec[2]\n",
        "\t\t\t\t\t\t\tself.vertices[actual].y = vec[3]\n",
        "\t\t\t\t\t\t\t#print(self.vertices[vec[0]].x)\n",
        "\n",
        "\t\t\t\t# 4\n",
        "\t\t\t\tself.vertices[actual].visitado = True\n",
        "\t\t\t\tnoVisitados.remove(actual)\n",
        "\n",
        "\t\t\t\t# 5 y 6\n",
        "\t\t\t\tactual = self.minimo(noVisitados)\n",
        "\t\telse:\n",
        "\t\t\treturn False\n",
        "\n",
        "g = Grafica()\n",
        "df = pd.read_csv('LimaStreets.csv')\n",
        "for i in range(5000):\n",
        "  g.agregarVertice(df.ORIGEN[i])\n",
        "for i in range(5000):\n",
        "  g.agregarArista(df.ORIGEN[i], df.DESTINO[i], df.DISTANCIA[i], df.X[i], df.Y[i])\n",
        "\n",
        "g.dijkstra(1)"
      ]
    },
    {
      "cell_type": "code",
      "execution_count": null,
      "metadata": {
        "id": "E0z7ol4i-PX2"
      },
      "outputs": [],
      "source": [
        "origen = input(\"Ingrese el id Origen: \")\n",
        "destino = input(\"Ingrese el id Destino: \")\n",
        "camino = g.camino(int(origen), int(destino))\n",
        "print(camino)\n",
        "original_camino = camino[0]\n",
        "peso = camino[1]\n",
        "for i in range(len(original_camino)):\n",
        "\tprint(camino[2][i])\n",
        "\tprint(camino[3][i])\n",
        "\n",
        "\n",
        "\n",
        "some_map = folium.Map(location=[camino[3][0].mean(),camino[2][0].mean()],zoom_start=100)\n",
        "\n",
        "numeros=[1,2,3,4,5]\n",
        "for i in range(len(camino[0])):\n",
        "  some_map.add_child(folium.Marker(location=[camino[3][i],camino[2][i]], popup=str(camino[0][i])))\n",
        "\n",
        "some_map"
      ]
    }
  ],
  "metadata": {
    "colab": {
      "provenance": []
    },
    "kernelspec": {
      "display_name": "Python 3",
      "name": "python3"
    },
    "language_info": {
      "name": "python"
    }
  },
  "nbformat": 4,
  "nbformat_minor": 0
}
